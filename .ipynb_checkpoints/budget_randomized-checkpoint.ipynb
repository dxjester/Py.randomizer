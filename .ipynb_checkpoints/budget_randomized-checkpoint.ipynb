{
 "cells": [
  {
   "cell_type": "markdown",
   "metadata": {},
   "source": [
    "# LOCKED POSITION RANDOMIZED DATA\n",
    "\n",
    "FILENAME: budget_randomized.ipynb\n",
    "    \n",
    "PROJECT: Randomized Data Model\n",
    "\n",
    "DATE CREATED: 27-MAY-20\n",
    "\n",
    "DATE UPDATED: 27-MAY-20"
   ]
  },
  {
   "cell_type": "markdown",
   "metadata": {},
   "source": [
    "## PHASE 1: PROJECT SETUP"
   ]
  },
  {
   "cell_type": "markdown",
   "metadata": {},
   "source": [
    "Import the necessary libraries needed for ETL, engineering, and export efforts"
   ]
  },
  {
   "cell_type": "code",
   "execution_count": 8,
   "metadata": {},
   "outputs": [],
   "source": [
    "import pandas as pd\n",
    "import csv\n",
    "import random\n",
    "import sqlite3\n",
    "import itertools\n",
    "import numpy as np\n",
    "import datetime\n",
    "from itertools import repeat\n",
    "import time as t\n",
    "import getpass as gp\n",
    "\n",
    "# plotting modules\n",
    "import matplotlib.pyplot as plt\n",
    "import plotly.express as px\n",
    "import plotly.offline as po"
   ]
  },
  {
   "cell_type": "code",
   "execution_count": 9,
   "metadata": {},
   "outputs": [],
   "source": [
    "def init_array(df_length):\n",
    "    '''\n",
    "    DESCRIPTION: A function to create and return a two_dimensional array with randomized float values\n",
    "    '''\n",
    "    \n",
    "    length = df_length\n",
    "    \n",
    "    num_of_projects = 20 # can change the amount of projects\n",
    "    num_of_subprojects = 40 # can change the amount of subprojects\n",
    "    num_of_programs = 80\n",
    "    num_of_rca = 120 # can change the amount of RCAs\n",
    "    \n",
    "    # create a sequential list of column values for projects, subprojects, and RCAs\n",
    "    proj_list = ['project-' + str(i+1) for i in range(num_of_projects)] # create a list of project names\n",
    "    subproject_list = ['subproject-' + str(i+1) for i in range(num_of_subprojects)]\n",
    "    program_list = ['program-' + str(i+1) for i in range(num_of_programs)]\n",
    "    rca_list = ['rca-' + str(i+1) for i in range(num_of_rca)]\n",
    "    \n",
    "    project_values = []\n",
    "    subproject_values = []\n",
    "    program_values = []\n",
    "    rca_values = []\n",
    "\n",
    "    for index in range(length):\n",
    "        \n",
    "        # select a random value from each list\n",
    "        proj_val = random.choice(proj_list)\n",
    "        sb_val = (random.choice(subproject_list))\n",
    "        program_val = random.choice(program_list)\n",
    "        rca_val = random.choice(rca_list)\n",
    "        \n",
    "        # append the randomized value to the default list\n",
    "        project_values.append(proj_val)\n",
    "        subproject_values.append(sb_val)\n",
    "        program_values.append(program_val)\n",
    "        rca_values.append(rca_val)\n",
    "    \n",
    "    # create randomized budget data\n",
    "    yr3_forecast= np.random.randint(low = 100000, high = 30000000, size = df_length) \n",
    "    yr2_random = np.random.uniform(low=0.5, high=1.3, size=df_length)\n",
    "    yr2_forecast = np.round(yr3_forecast * yr2_random,2)\n",
    "    \n",
    "    yr1_random = np.random.uniform(low=0.8, high=1.2, size=df_length)\n",
    "    yr1_forecast = np.round(yr2_forecast * yr1_random,2)\n",
    "    \n",
    "    plan_random = np.random.uniform(low=0.6, high=1.3, size=df_length)\n",
    "    plan_val = np.round(yr1_forecast * plan_random,2)\n",
    "    \n",
    "    approp_random = np.random.uniform(low=0.6, high=1.2, size=df_length)\n",
    "    approp_val = np.round(plan_val * approp_random,2)\n",
    "    \n",
    "    oblig_random = np.random.uniform(low=0.8, high=1.0, size=df_length)\n",
    "    oblig_val = np.round(approp_val * oblig_random,2)\n",
    "    \n",
    "    raw_df = pd.DataFrame(columns=['project', 'subproject', 'program_title', 'rca','yr+3_forecast','yr+2_forecast','yr+1_forecast','yr0_plan','yr-1_approp','yr-2_oblig'])\n",
    "\n",
    "    raw_df['project'] = project_values\n",
    "    raw_df['subproject'] = subproject_values\n",
    "    raw_df['program_title'] = program_values\n",
    "    raw_df['rca'] = rca_values\n",
    "    raw_df['yr+3_forecast'] = yr3_forecast\n",
    "    raw_df['yr+2_forecast'] = yr2_forecast\n",
    "    raw_df['yr+1_forecast'] = yr1_forecast\n",
    "    raw_df['yr0_plan'] = plan_val\n",
    "    raw_df['yr-1_approp'] = approp_val\n",
    "    raw_df['yr-2_oblig'] = oblig_val\n",
    "    \n",
    "    return raw_df"
   ]
  },
  {
   "cell_type": "markdown",
   "metadata": {},
   "source": [
    "# PHASE 2: FUNCTION TEST"
   ]
  },
  {
   "cell_type": "code",
   "execution_count": 10,
   "metadata": {},
   "outputs": [
    {
     "data": {
      "text/html": [
       "<div>\n",
       "<style scoped>\n",
       "    .dataframe tbody tr th:only-of-type {\n",
       "        vertical-align: middle;\n",
       "    }\n",
       "\n",
       "    .dataframe tbody tr th {\n",
       "        vertical-align: top;\n",
       "    }\n",
       "\n",
       "    .dataframe thead th {\n",
       "        text-align: right;\n",
       "    }\n",
       "</style>\n",
       "<table border=\"1\" class=\"dataframe\">\n",
       "  <thead>\n",
       "    <tr style=\"text-align: right;\">\n",
       "      <th></th>\n",
       "      <th>project</th>\n",
       "      <th>subproject</th>\n",
       "      <th>program_title</th>\n",
       "      <th>rca</th>\n",
       "      <th>yr+3_forecast</th>\n",
       "      <th>yr+2_forecast</th>\n",
       "      <th>yr+1_forecast</th>\n",
       "      <th>yr0_plan</th>\n",
       "      <th>yr-1_approp</th>\n",
       "      <th>yr-2_oblig</th>\n",
       "    </tr>\n",
       "  </thead>\n",
       "  <tbody>\n",
       "    <tr>\n",
       "      <th>9990</th>\n",
       "      <td>project-11</td>\n",
       "      <td>subproject-12</td>\n",
       "      <td>program-47</td>\n",
       "      <td>rca-17</td>\n",
       "      <td>27217640</td>\n",
       "      <td>31077200.56</td>\n",
       "      <td>28594550.50</td>\n",
       "      <td>20533268.14</td>\n",
       "      <td>17799345.68</td>\n",
       "      <td>16161578.94</td>\n",
       "    </tr>\n",
       "    <tr>\n",
       "      <th>9991</th>\n",
       "      <td>project-17</td>\n",
       "      <td>subproject-13</td>\n",
       "      <td>program-52</td>\n",
       "      <td>rca-74</td>\n",
       "      <td>8000259</td>\n",
       "      <td>6475838.70</td>\n",
       "      <td>6378203.53</td>\n",
       "      <td>6191286.31</td>\n",
       "      <td>7148121.67</td>\n",
       "      <td>6132249.39</td>\n",
       "    </tr>\n",
       "    <tr>\n",
       "      <th>9992</th>\n",
       "      <td>project-15</td>\n",
       "      <td>subproject-3</td>\n",
       "      <td>program-78</td>\n",
       "      <td>rca-1</td>\n",
       "      <td>21991312</td>\n",
       "      <td>26419358.54</td>\n",
       "      <td>27501158.30</td>\n",
       "      <td>25767295.79</td>\n",
       "      <td>25448803.71</td>\n",
       "      <td>21284881.92</td>\n",
       "    </tr>\n",
       "    <tr>\n",
       "      <th>9993</th>\n",
       "      <td>project-15</td>\n",
       "      <td>subproject-16</td>\n",
       "      <td>program-32</td>\n",
       "      <td>rca-73</td>\n",
       "      <td>352907</td>\n",
       "      <td>246496.91</td>\n",
       "      <td>204017.44</td>\n",
       "      <td>211565.08</td>\n",
       "      <td>227870.76</td>\n",
       "      <td>199901.73</td>\n",
       "    </tr>\n",
       "    <tr>\n",
       "      <th>9994</th>\n",
       "      <td>project-4</td>\n",
       "      <td>subproject-17</td>\n",
       "      <td>program-64</td>\n",
       "      <td>rca-110</td>\n",
       "      <td>16779405</td>\n",
       "      <td>17724254.71</td>\n",
       "      <td>17628077.96</td>\n",
       "      <td>11339561.32</td>\n",
       "      <td>7112331.11</td>\n",
       "      <td>5955470.48</td>\n",
       "    </tr>\n",
       "    <tr>\n",
       "      <th>9995</th>\n",
       "      <td>project-18</td>\n",
       "      <td>subproject-23</td>\n",
       "      <td>program-66</td>\n",
       "      <td>rca-18</td>\n",
       "      <td>1471156</td>\n",
       "      <td>865215.98</td>\n",
       "      <td>980384.77</td>\n",
       "      <td>715959.59</td>\n",
       "      <td>566804.95</td>\n",
       "      <td>477845.19</td>\n",
       "    </tr>\n",
       "    <tr>\n",
       "      <th>9996</th>\n",
       "      <td>project-18</td>\n",
       "      <td>subproject-2</td>\n",
       "      <td>program-14</td>\n",
       "      <td>rca-96</td>\n",
       "      <td>15906714</td>\n",
       "      <td>19225238.58</td>\n",
       "      <td>20671843.03</td>\n",
       "      <td>16358307.82</td>\n",
       "      <td>17850347.06</td>\n",
       "      <td>15864866.61</td>\n",
       "    </tr>\n",
       "    <tr>\n",
       "      <th>9997</th>\n",
       "      <td>project-20</td>\n",
       "      <td>subproject-4</td>\n",
       "      <td>program-69</td>\n",
       "      <td>rca-26</td>\n",
       "      <td>29549565</td>\n",
       "      <td>16129967.06</td>\n",
       "      <td>18861602.85</td>\n",
       "      <td>23106317.95</td>\n",
       "      <td>23024313.18</td>\n",
       "      <td>21164323.65</td>\n",
       "    </tr>\n",
       "    <tr>\n",
       "      <th>9998</th>\n",
       "      <td>project-5</td>\n",
       "      <td>subproject-1</td>\n",
       "      <td>program-75</td>\n",
       "      <td>rca-10</td>\n",
       "      <td>19654124</td>\n",
       "      <td>13619810.62</td>\n",
       "      <td>11414759.23</td>\n",
       "      <td>12569564.94</td>\n",
       "      <td>12203788.32</td>\n",
       "      <td>10152892.65</td>\n",
       "    </tr>\n",
       "    <tr>\n",
       "      <th>9999</th>\n",
       "      <td>project-19</td>\n",
       "      <td>subproject-38</td>\n",
       "      <td>program-67</td>\n",
       "      <td>rca-72</td>\n",
       "      <td>10201811</td>\n",
       "      <td>7459717.66</td>\n",
       "      <td>7713723.96</td>\n",
       "      <td>5524670.73</td>\n",
       "      <td>4419779.92</td>\n",
       "      <td>3849626.39</td>\n",
       "    </tr>\n",
       "  </tbody>\n",
       "</table>\n",
       "</div>"
      ],
      "text/plain": [
       "         project     subproject program_title      rca  yr+3_forecast  \\\n",
       "9990  project-11  subproject-12    program-47   rca-17       27217640   \n",
       "9991  project-17  subproject-13    program-52   rca-74        8000259   \n",
       "9992  project-15   subproject-3    program-78    rca-1       21991312   \n",
       "9993  project-15  subproject-16    program-32   rca-73         352907   \n",
       "9994   project-4  subproject-17    program-64  rca-110       16779405   \n",
       "9995  project-18  subproject-23    program-66   rca-18        1471156   \n",
       "9996  project-18   subproject-2    program-14   rca-96       15906714   \n",
       "9997  project-20   subproject-4    program-69   rca-26       29549565   \n",
       "9998   project-5   subproject-1    program-75   rca-10       19654124   \n",
       "9999  project-19  subproject-38    program-67   rca-72       10201811   \n",
       "\n",
       "      yr+2_forecast  yr+1_forecast     yr0_plan  yr-1_approp   yr-2_oblig  \n",
       "9990    31077200.56    28594550.50  20533268.14  17799345.68  16161578.94  \n",
       "9991     6475838.70     6378203.53   6191286.31   7148121.67   6132249.39  \n",
       "9992    26419358.54    27501158.30  25767295.79  25448803.71  21284881.92  \n",
       "9993      246496.91      204017.44    211565.08    227870.76    199901.73  \n",
       "9994    17724254.71    17628077.96  11339561.32   7112331.11   5955470.48  \n",
       "9995      865215.98      980384.77    715959.59    566804.95    477845.19  \n",
       "9996    19225238.58    20671843.03  16358307.82  17850347.06  15864866.61  \n",
       "9997    16129967.06    18861602.85  23106317.95  23024313.18  21164323.65  \n",
       "9998    13619810.62    11414759.23  12569564.94  12203788.32  10152892.65  \n",
       "9999     7459717.66     7713723.96   5524670.73   4419779.92   3849626.39  "
      ]
     },
     "execution_count": 10,
     "metadata": {},
     "output_type": "execute_result"
    }
   ],
   "source": [
    "train_df = init_array(10000)\n",
    "train_df.tail(10)"
   ]
  },
  {
   "cell_type": "code",
   "execution_count": 11,
   "metadata": {},
   "outputs": [
    {
     "data": {
      "text/plain": [
       "0        project-5-subproject-37-program-60-rca-22\n",
       "1         project-4-subproject-3-program-64-rca-10\n",
       "2         project-4-subproject-3-program-26-rca-10\n",
       "3       project-11-subproject-34-program-14-rca-87\n",
       "4        project-20-subproject-6-program-54-rca-67\n",
       "                           ...                    \n",
       "9995    project-18-subproject-23-program-66-rca-18\n",
       "9996     project-18-subproject-2-program-14-rca-96\n",
       "9997     project-20-subproject-4-program-69-rca-26\n",
       "9998      project-5-subproject-1-program-75-rca-10\n",
       "9999    project-19-subproject-38-program-67-rca-72\n",
       "Name: key, Length: 10000, dtype: object"
      ]
     },
     "execution_count": 11,
     "metadata": {},
     "output_type": "execute_result"
    }
   ],
   "source": [
    "train_df['key'] = train_df['project'] + '-' + train_df['subproject'] + '-' + train_df['program_title'] + '-' + train_df['rca']\n",
    "train_df['key']\n"
   ]
  },
  {
   "cell_type": "code",
   "execution_count": 12,
   "metadata": {},
   "outputs": [
    {
     "name": "stdout",
     "output_type": "stream",
     "text": [
      "Duplicate Rows except first occurrence based on all columns are :\n",
      "                                              key\n",
      "5111   project-12-subproject-40-program-36-rca-64\n",
      "5803    project-11-subproject-29-program-25-rca-8\n",
      "7818     project-8-subproject-8-program-1-rca-109\n",
      "8165     project-4-subproject-8-program-45-rca-27\n",
      "8573  project-13-subproject-38-program-31-rca-120\n",
      "9984     project-11-subproject-1-program-2-rca-42\n",
      "Total count of duplicated rows :\n",
      "6\n"
     ]
    }
   ],
   "source": [
    "key_df = train_df[['key']]\n",
    "duplicateRowsDF = key_df[key_df.duplicated()]\n",
    " \n",
    "print(\"Duplicate Rows except first occurrence based on all columns are :\")\n",
    "print(duplicateRowsDF)\n",
    "\n",
    "print(\"Total count of duplicated rows :\")\n",
    "print(len(duplicateRowsDF))"
   ]
  },
  {
   "cell_type": "code",
   "execution_count": 13,
   "metadata": {},
   "outputs": [],
   "source": [
    "# dropping ALL duplicte values \n",
    "train_df.drop_duplicates(subset =\"key\", \n",
    "                     keep = False, inplace = True) \n"
   ]
  },
  {
   "cell_type": "code",
   "execution_count": 14,
   "metadata": {},
   "outputs": [
    {
     "name": "stdout",
     "output_type": "stream",
     "text": [
      "Duplicate Rows except first occurrence based on all columns are :\n",
      "Empty DataFrame\n",
      "Columns: [key]\n",
      "Index: []\n",
      "\n",
      "Total count of duplicated rows : 0\n"
     ]
    }
   ],
   "source": [
    "key_df = train_df[['key']]\n",
    "duplicateRowsDF = key_df[key_df.duplicated()]\n",
    " \n",
    "print(\"Duplicate Rows except first occurrence based on all columns are :\")\n",
    "print(duplicateRowsDF)\n",
    "\n",
    "print(\"\\nTotal count of duplicated rows :\",len(duplicateRowsDF))\n"
   ]
  },
  {
   "cell_type": "markdown",
   "metadata": {},
   "source": [
    "### Store unique values in data structures"
   ]
  },
  {
   "cell_type": "code",
   "execution_count": 15,
   "metadata": {},
   "outputs": [
    {
     "data": {
      "text/plain": [
       "['project',\n",
       " 'subproject',\n",
       " 'program_title',\n",
       " 'rca',\n",
       " 'yr+3_forecast',\n",
       " 'yr+2_forecast',\n",
       " 'yr+1_forecast',\n",
       " 'yr0_plan',\n",
       " 'yr-1_approp',\n",
       " 'yr-2_oblig',\n",
       " 'key']"
      ]
     },
     "execution_count": 15,
     "metadata": {},
     "output_type": "execute_result"
    }
   ],
   "source": [
    "budget_col_names = list(train_df.columns)\n",
    "budget_col_names"
   ]
  },
  {
   "cell_type": "code",
   "execution_count": 16,
   "metadata": {},
   "outputs": [
    {
     "data": {
      "text/plain": [
       "['project', 'subproject', 'program_title', 'rca']"
      ]
     },
     "execution_count": 16,
     "metadata": {},
     "output_type": "execute_result"
    }
   ],
   "source": [
    "budget_ordinal_names = budget_col_names[:4]\n",
    "budget_ordinal_names"
   ]
  },
  {
   "cell_type": "code",
   "execution_count": 24,
   "metadata": {},
   "outputs": [
    {
     "name": "stdout",
     "output_type": "stream",
     "text": [
      "{'project-15', 'project-16', 'project-3', 'project-13', 'project-8', 'project-10', 'project-9', 'project-4', 'project-6', 'project-5', 'project-7', 'project-17', 'project-19', 'project-14', 'project-20', 'project-18', 'project-2', 'project-1', 'project-12', 'project-11'}\n"
     ]
    }
   ],
   "source": [
    "proj_uniq_values = train_df['project'].unique()\n",
    "print(set(proj_uniq_values))"
   ]
  },
  {
   "cell_type": "code",
   "execution_count": 25,
   "metadata": {},
   "outputs": [
    {
     "name": "stdout",
     "output_type": "stream",
     "text": [
      "{'subproject-24', 'subproject-40', 'subproject-17', 'subproject-20', 'subproject-23', 'subproject-38', 'subproject-28', 'subproject-14', 'subproject-37', 'subproject-15', 'subproject-12', 'subproject-39', 'subproject-25', 'subproject-36', 'subproject-8', 'subproject-34', 'subproject-19', 'subproject-3', 'subproject-11', 'subproject-18', 'subproject-31', 'subproject-29', 'subproject-30', 'subproject-16', 'subproject-6', 'subproject-9', 'subproject-32', 'subproject-2', 'subproject-33', 'subproject-21', 'subproject-22', 'subproject-27', 'subproject-10', 'subproject-13', 'subproject-26', 'subproject-4', 'subproject-7', 'subproject-1', 'subproject-35', 'subproject-5'}\n"
     ]
    }
   ],
   "source": [
    "subproj_uniq_values = train_df['subproject'].unique()\n",
    "print(set(subproj_uniq_values))"
   ]
  },
  {
   "cell_type": "code",
   "execution_count": 26,
   "metadata": {},
   "outputs": [
    {
     "name": "stdout",
     "output_type": "stream",
     "text": [
      "{'program-67', 'program-36', 'program-33', 'program-24', 'program-79', 'program-38', 'program-42', 'program-66', 'program-65', 'program-50', 'program-57', 'program-41', 'program-10', 'program-43', 'program-52', 'program-71', 'program-74', 'program-37', 'program-31', 'program-2', 'program-77', 'program-11', 'program-54', 'program-22', 'program-30', 'program-44', 'program-61', 'program-13', 'program-80', 'program-68', 'program-39', 'program-21', 'program-8', 'program-40', 'program-49', 'program-32', 'program-48', 'program-14', 'program-5', 'program-58', 'program-17', 'program-12', 'program-63', 'program-28', 'program-69', 'program-27', 'program-3', 'program-20', 'program-9', 'program-1', 'program-59', 'program-23', 'program-62', 'program-25', 'program-16', 'program-55', 'program-4', 'program-46', 'program-15', 'program-76', 'program-26', 'program-75', 'program-60', 'program-6', 'program-35', 'program-34', 'program-7', 'program-64', 'program-18', 'program-73', 'program-53', 'program-47', 'program-51', 'program-45', 'program-56', 'program-19', 'program-72', 'program-29', 'program-70', 'program-78'}\n"
     ]
    }
   ],
   "source": [
    "program_uniq_values = train_df['program_title'].unique()\n",
    "print(set(program_uniq_values))"
   ]
  },
  {
   "cell_type": "code",
   "execution_count": 27,
   "metadata": {},
   "outputs": [
    {
     "name": "stdout",
     "output_type": "stream",
     "text": [
      "{'rca-41', 'rca-80', 'rca-81', 'rca-22', 'rca-111', 'rca-93', 'rca-76', 'rca-97', 'rca-20', 'rca-77', 'rca-26', 'rca-102', 'rca-42', 'rca-30', 'rca-44', 'rca-115', 'rca-73', 'rca-36', 'rca-54', 'rca-83', 'rca-45', 'rca-98', 'rca-19', 'rca-67', 'rca-49', 'rca-9', 'rca-16', 'rca-33', 'rca-48', 'rca-61', 'rca-29', 'rca-70', 'rca-34', 'rca-43', 'rca-103', 'rca-94', 'rca-6', 'rca-57', 'rca-50', 'rca-72', 'rca-32', 'rca-69', 'rca-4', 'rca-55', 'rca-39', 'rca-60', 'rca-117', 'rca-56', 'rca-99', 'rca-71', 'rca-86', 'rca-90', 'rca-14', 'rca-92', 'rca-112', 'rca-25', 'rca-11', 'rca-53', 'rca-8', 'rca-18', 'rca-35', 'rca-113', 'rca-79', 'rca-95', 'rca-40', 'rca-46', 'rca-3', 'rca-24', 'rca-65', 'rca-100', 'rca-38', 'rca-63', 'rca-21', 'rca-23', 'rca-110', 'rca-17', 'rca-84', 'rca-82', 'rca-104', 'rca-31', 'rca-116', 'rca-52', 'rca-119', 'rca-107', 'rca-12', 'rca-58', 'rca-1', 'rca-118', 'rca-2', 'rca-89', 'rca-51', 'rca-5', 'rca-66', 'rca-75', 'rca-64', 'rca-105', 'rca-37', 'rca-109', 'rca-15', 'rca-59', 'rca-28', 'rca-106', 'rca-62', 'rca-88', 'rca-91', 'rca-74', 'rca-10', 'rca-108', 'rca-13', 'rca-96', 'rca-87', 'rca-85', 'rca-68', 'rca-114', 'rca-101', 'rca-78', 'rca-47', 'rca-120', 'rca-27', 'rca-7'}\n"
     ]
    }
   ],
   "source": [
    "rca_uniq_values = train_df['rca'].unique()\n",
    "print(set(rca_uniq_values))"
   ]
  },
  {
   "cell_type": "markdown",
   "metadata": {},
   "source": [
    "### Visualize the generated data set"
   ]
  },
  {
   "cell_type": "markdown",
   "metadata": {},
   "source": [
    "Project Title Visualization"
   ]
  },
  {
   "cell_type": "code",
   "execution_count": 29,
   "metadata": {},
   "outputs": [
    {
     "ename": "NameError",
     "evalue": "name 'px' is not defined",
     "output_type": "error",
     "traceback": [
      "\u001b[0;31m---------------------------------------------------------------------------\u001b[0m",
      "\u001b[0;31mNameError\u001b[0m                                 Traceback (most recent call last)",
      "\u001b[0;32m<ipython-input-29-3dd21d571dd1>\u001b[0m in \u001b[0;36m<module>\u001b[0;34m\u001b[0m\n\u001b[1;32m      7\u001b[0m \u001b[0;34m\u001b[0m\u001b[0m\n\u001b[1;32m      8\u001b[0m     \u001b[0;31m# plot the histogram\u001b[0m\u001b[0;34m\u001b[0m\u001b[0;34m\u001b[0m\u001b[0;34m\u001b[0m\u001b[0m\n\u001b[0;32m----> 9\u001b[0;31m     fig = px.histogram(raw_val, x=col_name, marginal=\"box\", # can be `box`, `violin`\n\u001b[0m\u001b[1;32m     10\u001b[0m                    nbins=12)\n\u001b[1;32m     11\u001b[0m     fig.update_layout(\n",
      "\u001b[0;31mNameError\u001b[0m: name 'px' is not defined"
     ]
    }
   ],
   "source": [
    "for col_name in budget_col_names:\n",
    "    train_df = train_df[[col_name]]\n",
    "    chart_title = col_name + ' Histogram'\n",
    "    xaxis_title = col_name + ' Counts'\n",
    "    yaxis_title = 'Frequency'\n",
    "    #chart_title = \"District \" + district_name + \" Total Events by Month & SHIFT\"\n",
    "    \n",
    "    # plot the histogram\n",
    "    fig = px.histogram(raw_val, x=col_name, marginal=\"box\", # can be `box`, `violin`\n",
    "                   nbins=12)\n",
    "    fig.update_layout(\n",
    "        title = chart_title,\n",
    "        autosize=False,\n",
    "        width=1500,\n",
    "        height=700,\n",
    "        margin=dict(\n",
    "            l=50,\n",
    "            r=50,\n",
    "            b=100,\n",
    "            t=100,\n",
    "            pad=4\n",
    "            ),\n",
    "        paper_bgcolor=\"white\",\n",
    "    )\n",
    "    fig.show()"
   ]
  },
  {
   "cell_type": "code",
   "execution_count": null,
   "metadata": {},
   "outputs": [],
   "source": []
  },
  {
   "cell_type": "code",
   "execution_count": null,
   "metadata": {},
   "outputs": [],
   "source": []
  },
  {
   "cell_type": "code",
   "execution_count": null,
   "metadata": {},
   "outputs": [],
   "source": []
  },
  {
   "cell_type": "code",
   "execution_count": null,
   "metadata": {},
   "outputs": [],
   "source": []
  },
  {
   "cell_type": "markdown",
   "metadata": {},
   "source": [
    "# PHASE 3: RANDOMIZE EXECUTION DATA "
   ]
  },
  {
   "cell_type": "markdown",
   "metadata": {},
   "source": [
    "Section to build out the test data and functions"
   ]
  },
  {
   "cell_type": "markdown",
   "metadata": {},
   "source": [
    "# END OF PROGRAM"
   ]
  },
  {
   "cell_type": "markdown",
   "metadata": {},
   "source": [
    "\"Si vacem para bellum\""
   ]
  },
  {
   "cell_type": "markdown",
   "metadata": {},
   "source": [
    "# TEST SECTION"
   ]
  },
  {
   "cell_type": "code",
   "execution_count": 1,
   "metadata": {},
   "outputs": [],
   "source": [
    "num_exe_proj = 15\n",
    "num_exe_subproj = 30\n",
    "num_exe_rca = 50\n",
    "num_exe_program = 75\n",
    "\n",
    "num_of_kc = 10\n",
    "is_base = 1\n",
    "is_nip = 1"
   ]
  },
  {
   "cell_type": "code",
   "execution_count": 2,
   "metadata": {},
   "outputs": [
    {
     "data": {
      "text/plain": [
       "['proj-0', 'proj-1', 'proj-2', 'proj-3', 'proj-4']"
      ]
     },
     "execution_count": 2,
     "metadata": {},
     "output_type": "execute_result"
    }
   ],
   "source": [
    "exe_proj_list = ['proj-' + str(x) for x in range(num_exe_proj)]\n",
    "exe_proj_list[:5]"
   ]
  },
  {
   "cell_type": "code",
   "execution_count": 3,
   "metadata": {},
   "outputs": [
    {
     "data": {
      "text/plain": [
       "['subproj-0', 'subproj-1', 'subproj-2', 'subproj-3', 'subproj-4']"
      ]
     },
     "execution_count": 3,
     "metadata": {},
     "output_type": "execute_result"
    }
   ],
   "source": [
    "exe_subproj_list = ['subproj-' + str(x) for x in range(num_exe_subproj)]\n",
    "exe_subproj_list[:5]"
   ]
  },
  {
   "cell_type": "code",
   "execution_count": 4,
   "metadata": {},
   "outputs": [
    {
     "data": {
      "text/plain": [
       "['rca-0', 'rca-1', 'rca-2', 'rca-3', 'rca-4']"
      ]
     },
     "execution_count": 4,
     "metadata": {},
     "output_type": "execute_result"
    }
   ],
   "source": [
    "exe_rca_list = ['rca-' + str(x) for x in range(num_exe_rca)]\n",
    "exe_rca_list[:5]"
   ]
  },
  {
   "cell_type": "code",
   "execution_count": 5,
   "metadata": {},
   "outputs": [
    {
     "data": {
      "text/plain": [
       "['program-0', 'program-1', 'program-2', 'program-3', 'program-4']"
      ]
     },
     "execution_count": 5,
     "metadata": {},
     "output_type": "execute_result"
    }
   ],
   "source": [
    "exe_prog_list = ['program-' + str(x) for x in range(num_exe_program)]\n",
    "exe_prog_list[:5]"
   ]
  },
  {
   "cell_type": "markdown",
   "metadata": {},
   "source": [
    "# PHASE 4: EXPORT DATA"
   ]
  },
  {
   "cell_type": "code",
   "execution_count": 5,
   "metadata": {},
   "outputs": [],
   "source": [
    "train_df.to_csv(r'locked_random_data_v1', index = False)"
   ]
  }
 ],
 "metadata": {
  "kernelspec": {
   "display_name": "Python 3",
   "language": "python",
   "name": "python3"
  },
  "language_info": {
   "codemirror_mode": {
    "name": "ipython",
    "version": 3
   },
   "file_extension": ".py",
   "mimetype": "text/x-python",
   "name": "python",
   "nbconvert_exporter": "python",
   "pygments_lexer": "ipython3",
   "version": "3.7.6"
  }
 },
 "nbformat": 4,
 "nbformat_minor": 4
}
