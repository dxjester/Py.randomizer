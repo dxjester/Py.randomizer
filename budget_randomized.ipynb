{
 "cells": [
  {
   "cell_type": "markdown",
   "metadata": {},
   "source": [
    "# LOCKED POSITION RANDOMIZED DATA\n",
    "\n",
    "FILENAME: budget_randomized.ipynb\n",
    "    \n",
    "PROJECT: Randomized Data Model\n",
    "\n",
    "DATE CREATED: 27-MAY-20\n",
    "\n",
    "DATE UPDATED: 27-MAY-20"
   ]
  },
  {
   "cell_type": "markdown",
   "metadata": {},
   "source": [
    "## PHASE 1: PROJECT SETUP"
   ]
  },
  {
   "cell_type": "markdown",
   "metadata": {},
   "source": [
    "Import the necessary libraries needed for ETL, engineering, and export efforts"
   ]
  },
  {
   "cell_type": "code",
   "execution_count": 2,
   "metadata": {},
   "outputs": [],
   "source": [
    "import pandas as pd\n",
    "import csv\n",
    "import random\n",
    "import sqlite3\n",
    "import itertools\n",
    "import numpy as np\n",
    "import datetime\n",
    "from itertools import repeat\n",
    "import time as t\n",
    "import getpass as gp"
   ]
  },
  {
   "cell_type": "code",
   "execution_count": 3,
   "metadata": {},
   "outputs": [],
   "source": [
    "def init_array(df_length):\n",
    "    '''\n",
    "    DESCRIPTION: A function to create and return a two_dimensional array with randomized float values\n",
    "    '''\n",
    "    \n",
    "    length = df_length\n",
    "    \n",
    "    num_of_projects = 20 # can change the amount of projects\n",
    "    num_of_subprojects = 40 # can change the amount of subprojects\n",
    "    num_of_programs = 80\n",
    "    num_of_rca = 120 # can change the amount of RCAs\n",
    "    \n",
    "    # create a sequential list of column values for projects, subprojects, and RCAs\n",
    "    proj_list = ['project-' + str(i+1) for i in range(num_of_projects)] # create a list of project names\n",
    "    subproject_list = ['subproject-' + str(i+1) for i in range(num_of_subprojects)]\n",
    "    program_list = ['program-' + str(i+1) for i in range(num_of_programs)]\n",
    "    rca_list = ['rca-' + str(i+1) for i in range(num_of_rca)]\n",
    "    \n",
    "    project_values = []\n",
    "    subproject_values = []\n",
    "    program_values = []\n",
    "    rca_values = []\n",
    "\n",
    "    for index in range(length):\n",
    "        \n",
    "        # select a random value from each list\n",
    "        proj_val = random.choice(proj_list)\n",
    "        sb_val = (random.choice(subproject_list))\n",
    "        program_val = random.choice(program_list)\n",
    "        rca_val = random.choice(rca_list)\n",
    "        \n",
    "        # append the randomized value to the default list\n",
    "        project_values.append(proj_val)\n",
    "        subproject_values.append(sb_val)\n",
    "        program_values.append(program_val)\n",
    "        rca_values.append(rca_val)\n",
    "    \n",
    "    # create randomized budget data\n",
    "    yr3_forecast= np.random.randint(low = 100000, high = 30000000, size = df_length) \n",
    "    yr2_random = np.random.uniform(low=0.5, high=1.3, size=df_length)\n",
    "    yr2_forecast = np.round(yr3_forecast * yr2_random,2)\n",
    "    \n",
    "    yr1_random = np.random.uniform(low=0.8, high=1.2, size=df_length)\n",
    "    yr1_forecast = np.round(yr2_forecast * yr1_random,2)\n",
    "    \n",
    "    plan_random = np.random.uniform(low=0.6, high=1.3, size=df_length)\n",
    "    plan_val = np.round(yr1_forecast * plan_random,2)\n",
    "    \n",
    "    approp_random = np.random.uniform(low=0.6, high=1.2, size=df_length)\n",
    "    approp_val = np.round(plan_val * approp_random,2)\n",
    "    \n",
    "    oblig_random = np.random.uniform(low=0.8, high=1.0, size=df_length)\n",
    "    oblig_val = np.round(approp_val * oblig_random,2)\n",
    "    \n",
    "    raw_df = pd.DataFrame(columns=['project', 'subproject', 'program_title', 'rca','yr+3_forecast','yr+2_forecast','yr+1_forecast','yr0_plan','yr-1_approp','yr-2_oblig'])\n",
    "\n",
    "    raw_df['project'] = project_values\n",
    "    raw_df['subproject'] = subproject_values\n",
    "    raw_df['program_title'] = rca_values\n",
    "    raw_df['rca'] = rca_values\n",
    "    raw_df['yr+3_forecast'] = yr3_forecast\n",
    "    raw_df['yr+2_forecast'] = yr2_forecast\n",
    "    raw_df['yr+1_forecast'] = yr1_forecast\n",
    "    raw_df['yr0_plan'] = plan_val\n",
    "    raw_df['yr-1_approp'] = approp_val\n",
    "    raw_df['yr-2_oblig'] = oblig_val\n",
    "    \n",
    "    return raw_df"
   ]
  },
  {
   "cell_type": "markdown",
   "metadata": {},
   "source": [
    "# PHASE 2: FUNCTION TEST"
   ]
  },
  {
   "cell_type": "code",
   "execution_count": 4,
   "metadata": {},
   "outputs": [
    {
     "data": {
      "text/html": [
       "<div>\n",
       "<style scoped>\n",
       "    .dataframe tbody tr th:only-of-type {\n",
       "        vertical-align: middle;\n",
       "    }\n",
       "\n",
       "    .dataframe tbody tr th {\n",
       "        vertical-align: top;\n",
       "    }\n",
       "\n",
       "    .dataframe thead th {\n",
       "        text-align: right;\n",
       "    }\n",
       "</style>\n",
       "<table border=\"1\" class=\"dataframe\">\n",
       "  <thead>\n",
       "    <tr style=\"text-align: right;\">\n",
       "      <th></th>\n",
       "      <th>project</th>\n",
       "      <th>subproject</th>\n",
       "      <th>program_title</th>\n",
       "      <th>rca</th>\n",
       "      <th>yr+3_forecast</th>\n",
       "      <th>yr+2_forecast</th>\n",
       "      <th>yr+1_forecast</th>\n",
       "      <th>yr0_plan</th>\n",
       "      <th>yr-1_approp</th>\n",
       "      <th>yr-2_oblig</th>\n",
       "    </tr>\n",
       "  </thead>\n",
       "  <tbody>\n",
       "    <tr>\n",
       "      <th>9990</th>\n",
       "      <td>project-17</td>\n",
       "      <td>subproject-18</td>\n",
       "      <td>rca-98</td>\n",
       "      <td>rca-98</td>\n",
       "      <td>25221476</td>\n",
       "      <td>13536907.98</td>\n",
       "      <td>12142297.11</td>\n",
       "      <td>8215030.65</td>\n",
       "      <td>6973562.91</td>\n",
       "      <td>6835362.60</td>\n",
       "    </tr>\n",
       "    <tr>\n",
       "      <th>9991</th>\n",
       "      <td>project-4</td>\n",
       "      <td>subproject-10</td>\n",
       "      <td>rca-70</td>\n",
       "      <td>rca-70</td>\n",
       "      <td>6140140</td>\n",
       "      <td>5168840.74</td>\n",
       "      <td>5884849.59</td>\n",
       "      <td>4824930.37</td>\n",
       "      <td>3073028.12</td>\n",
       "      <td>2935069.23</td>\n",
       "    </tr>\n",
       "    <tr>\n",
       "      <th>9992</th>\n",
       "      <td>project-1</td>\n",
       "      <td>subproject-28</td>\n",
       "      <td>rca-6</td>\n",
       "      <td>rca-6</td>\n",
       "      <td>2030424</td>\n",
       "      <td>1746541.89</td>\n",
       "      <td>1508908.62</td>\n",
       "      <td>997031.26</td>\n",
       "      <td>613699.60</td>\n",
       "      <td>596620.42</td>\n",
       "    </tr>\n",
       "    <tr>\n",
       "      <th>9993</th>\n",
       "      <td>project-5</td>\n",
       "      <td>subproject-24</td>\n",
       "      <td>rca-25</td>\n",
       "      <td>rca-25</td>\n",
       "      <td>14033888</td>\n",
       "      <td>11787181.38</td>\n",
       "      <td>11063972.66</td>\n",
       "      <td>10526446.54</td>\n",
       "      <td>10901051.45</td>\n",
       "      <td>9964175.32</td>\n",
       "    </tr>\n",
       "    <tr>\n",
       "      <th>9994</th>\n",
       "      <td>project-4</td>\n",
       "      <td>subproject-16</td>\n",
       "      <td>rca-53</td>\n",
       "      <td>rca-53</td>\n",
       "      <td>17732301</td>\n",
       "      <td>21236833.93</td>\n",
       "      <td>19537513.50</td>\n",
       "      <td>20573288.98</td>\n",
       "      <td>12345494.36</td>\n",
       "      <td>12098561.20</td>\n",
       "    </tr>\n",
       "    <tr>\n",
       "      <th>9995</th>\n",
       "      <td>project-2</td>\n",
       "      <td>subproject-2</td>\n",
       "      <td>rca-72</td>\n",
       "      <td>rca-72</td>\n",
       "      <td>2767524</td>\n",
       "      <td>3374433.49</td>\n",
       "      <td>3618081.94</td>\n",
       "      <td>4550035.34</td>\n",
       "      <td>3269295.18</td>\n",
       "      <td>2992108.39</td>\n",
       "    </tr>\n",
       "    <tr>\n",
       "      <th>9996</th>\n",
       "      <td>project-5</td>\n",
       "      <td>subproject-1</td>\n",
       "      <td>rca-51</td>\n",
       "      <td>rca-51</td>\n",
       "      <td>27173182</td>\n",
       "      <td>22985475.50</td>\n",
       "      <td>25438817.75</td>\n",
       "      <td>26564419.89</td>\n",
       "      <td>21121755.47</td>\n",
       "      <td>18401083.68</td>\n",
       "    </tr>\n",
       "    <tr>\n",
       "      <th>9997</th>\n",
       "      <td>project-18</td>\n",
       "      <td>subproject-29</td>\n",
       "      <td>rca-81</td>\n",
       "      <td>rca-81</td>\n",
       "      <td>22324283</td>\n",
       "      <td>23367847.64</td>\n",
       "      <td>19352185.23</td>\n",
       "      <td>22180635.66</td>\n",
       "      <td>22281703.81</td>\n",
       "      <td>21490622.55</td>\n",
       "    </tr>\n",
       "    <tr>\n",
       "      <th>9998</th>\n",
       "      <td>project-11</td>\n",
       "      <td>subproject-23</td>\n",
       "      <td>rca-87</td>\n",
       "      <td>rca-87</td>\n",
       "      <td>20577395</td>\n",
       "      <td>12113794.19</td>\n",
       "      <td>12460198.81</td>\n",
       "      <td>15740443.91</td>\n",
       "      <td>10707532.05</td>\n",
       "      <td>9639829.01</td>\n",
       "    </tr>\n",
       "    <tr>\n",
       "      <th>9999</th>\n",
       "      <td>project-12</td>\n",
       "      <td>subproject-8</td>\n",
       "      <td>rca-28</td>\n",
       "      <td>rca-28</td>\n",
       "      <td>25713361</td>\n",
       "      <td>23776042.71</td>\n",
       "      <td>25672770.18</td>\n",
       "      <td>17826688.31</td>\n",
       "      <td>18563616.71</td>\n",
       "      <td>17583788.38</td>\n",
       "    </tr>\n",
       "  </tbody>\n",
       "</table>\n",
       "</div>"
      ],
      "text/plain": [
       "         project     subproject program_title     rca  yr+3_forecast  \\\n",
       "9990  project-17  subproject-18        rca-98  rca-98       25221476   \n",
       "9991   project-4  subproject-10        rca-70  rca-70        6140140   \n",
       "9992   project-1  subproject-28         rca-6   rca-6        2030424   \n",
       "9993   project-5  subproject-24        rca-25  rca-25       14033888   \n",
       "9994   project-4  subproject-16        rca-53  rca-53       17732301   \n",
       "9995   project-2   subproject-2        rca-72  rca-72        2767524   \n",
       "9996   project-5   subproject-1        rca-51  rca-51       27173182   \n",
       "9997  project-18  subproject-29        rca-81  rca-81       22324283   \n",
       "9998  project-11  subproject-23        rca-87  rca-87       20577395   \n",
       "9999  project-12   subproject-8        rca-28  rca-28       25713361   \n",
       "\n",
       "      yr+2_forecast  yr+1_forecast     yr0_plan  yr-1_approp   yr-2_oblig  \n",
       "9990    13536907.98    12142297.11   8215030.65   6973562.91   6835362.60  \n",
       "9991     5168840.74     5884849.59   4824930.37   3073028.12   2935069.23  \n",
       "9992     1746541.89     1508908.62    997031.26    613699.60    596620.42  \n",
       "9993    11787181.38    11063972.66  10526446.54  10901051.45   9964175.32  \n",
       "9994    21236833.93    19537513.50  20573288.98  12345494.36  12098561.20  \n",
       "9995     3374433.49     3618081.94   4550035.34   3269295.18   2992108.39  \n",
       "9996    22985475.50    25438817.75  26564419.89  21121755.47  18401083.68  \n",
       "9997    23367847.64    19352185.23  22180635.66  22281703.81  21490622.55  \n",
       "9998    12113794.19    12460198.81  15740443.91  10707532.05   9639829.01  \n",
       "9999    23776042.71    25672770.18  17826688.31  18563616.71  17583788.38  "
      ]
     },
     "execution_count": 4,
     "metadata": {},
     "output_type": "execute_result"
    }
   ],
   "source": [
    "train_df = init_array(10000)\n",
    "train_df.tail(10)"
   ]
  },
  {
   "cell_type": "code",
   "execution_count": 5,
   "metadata": {},
   "outputs": [
    {
     "data": {
      "text/plain": [
       "0         project-15-subproject-15-rca-25-rca-25\n",
       "1       project-17-subproject-13-rca-104-rca-104\n",
       "2         project-9-subproject-3-rca-109-rca-109\n",
       "3          project-15-subproject-7-rca-98-rca-98\n",
       "4         project-11-subproject-13-rca-38-rca-38\n",
       "                          ...                   \n",
       "9995        project-2-subproject-2-rca-72-rca-72\n",
       "9996        project-5-subproject-1-rca-51-rca-51\n",
       "9997      project-18-subproject-29-rca-81-rca-81\n",
       "9998      project-11-subproject-23-rca-87-rca-87\n",
       "9999       project-12-subproject-8-rca-28-rca-28\n",
       "Name: key, Length: 10000, dtype: object"
      ]
     },
     "execution_count": 5,
     "metadata": {},
     "output_type": "execute_result"
    }
   ],
   "source": [
    "train_df['key'] = train_df['project'] + '-' + train_df['subproject'] + '-' + train_df['program_title'] + '-' + train_df['rca']\n",
    "train_df['key']\n"
   ]
  },
  {
   "cell_type": "code",
   "execution_count": 6,
   "metadata": {},
   "outputs": [
    {
     "name": "stdout",
     "output_type": "stream",
     "text": [
      "Duplicate Rows except first occurrence based on all columns are :\n",
      "                                           key\n",
      "759   project-19-subproject-37-rca-113-rca-113\n",
      "919      project-3-subproject-36-rca-17-rca-17\n",
      "980     project-18-subproject-27-rca-90-rca-90\n",
      "1166      project-12-subproject-38-rca-6-rca-6\n",
      "1211   project-1-subproject-28-rca-103-rca-103\n",
      "...                                        ...\n",
      "9949    project-18-subproject-25-rca-90-rca-90\n",
      "9951    project-14-subproject-25-rca-48-rca-48\n",
      "9978     project-3-subproject-39-rca-43-rca-43\n",
      "9980    project-13-subproject-11-rca-43-rca-43\n",
      "9999     project-12-subproject-8-rca-28-rca-28\n",
      "\n",
      "[481 rows x 1 columns]\n",
      "Total count of duplicated rows :\n",
      "481\n"
     ]
    }
   ],
   "source": [
    "key_df = train_df[['key']]\n",
    "duplicateRowsDF = key_df[key_df.duplicated()]\n",
    " \n",
    "print(\"Duplicate Rows except first occurrence based on all columns are :\")\n",
    "print(duplicateRowsDF)\n",
    "\n",
    "print(\"Total count of duplicated rows :\")\n",
    "print(len(duplicateRowsDF))"
   ]
  },
  {
   "cell_type": "code",
   "execution_count": 7,
   "metadata": {},
   "outputs": [],
   "source": [
    "# dropping ALL duplicte values \n",
    "train_df.drop_duplicates(subset =\"key\", \n",
    "                     keep = False, inplace = True) \n"
   ]
  },
  {
   "cell_type": "code",
   "execution_count": 10,
   "metadata": {},
   "outputs": [
    {
     "name": "stdout",
     "output_type": "stream",
     "text": [
      "Duplicate Rows except first occurrence based on all columns are :\n",
      "Empty DataFrame\n",
      "Columns: [key]\n",
      "Index: []\n",
      "\n",
      "Total count of duplicated rows : 0\n"
     ]
    }
   ],
   "source": [
    "key_df = train_df[['key']]\n",
    "duplicateRowsDF = key_df[key_df.duplicated()]\n",
    " \n",
    "print(\"Duplicate Rows except first occurrence based on all columns are :\")\n",
    "print(duplicateRowsDF)\n",
    "\n",
    "print(\"\\nTotal count of duplicated rows :\",len(duplicateRowsDF))\n"
   ]
  },
  {
   "cell_type": "markdown",
   "metadata": {},
   "source": [
    "# PHASE 3: RANDOMIZE EXECUTION DATA "
   ]
  },
  {
   "cell_type": "markdown",
   "metadata": {},
   "source": [
    "Section to build out the test data and functions"
   ]
  },
  {
   "cell_type": "markdown",
   "metadata": {},
   "source": [
    "## Test Section"
   ]
  },
  {
   "cell_type": "code",
   "execution_count": 11,
   "metadata": {},
   "outputs": [],
   "source": [
    "num_exe_proj = 15\n",
    "num_exe_subproj = 30\n",
    "num_exe_rca = 50\n",
    "num_exe_program = 75"
   ]
  },
  {
   "cell_type": "code",
   "execution_count": 17,
   "metadata": {},
   "outputs": [
    {
     "data": {
      "text/plain": [
       "['proj-0',\n",
       " 'proj-1',\n",
       " 'proj-2',\n",
       " 'proj-3',\n",
       " 'proj-4',\n",
       " 'proj-5',\n",
       " 'proj-6',\n",
       " 'proj-7',\n",
       " 'proj-8',\n",
       " 'proj-9']"
      ]
     },
     "execution_count": 17,
     "metadata": {},
     "output_type": "execute_result"
    }
   ],
   "source": [
    "exe_proj_list = ['proj-' + str(x) for x in range(num_exe_proj)]\n",
    "exe_proj_list[:10]"
   ]
  },
  {
   "cell_type": "code",
   "execution_count": 16,
   "metadata": {},
   "outputs": [
    {
     "data": {
      "text/plain": [
       "['subproj-0',\n",
       " 'subproj-1',\n",
       " 'subproj-2',\n",
       " 'subproj-3',\n",
       " 'subproj-4',\n",
       " 'subproj-5',\n",
       " 'subproj-6',\n",
       " 'subproj-7',\n",
       " 'subproj-8',\n",
       " 'subproj-9']"
      ]
     },
     "execution_count": 16,
     "metadata": {},
     "output_type": "execute_result"
    }
   ],
   "source": [
    "exe_subproj_list = ['subproj-' + str(x) for x in range(num_exe_subproj)]\n",
    "exe_subproj_list[:10]"
   ]
  },
  {
   "cell_type": "code",
   "execution_count": 18,
   "metadata": {},
   "outputs": [
    {
     "data": {
      "text/plain": [
       "['rca-0',\n",
       " 'rca-1',\n",
       " 'rca-2',\n",
       " 'rca-3',\n",
       " 'rca-4',\n",
       " 'rca-5',\n",
       " 'rca-6',\n",
       " 'rca-7',\n",
       " 'rca-8',\n",
       " 'rca-9']"
      ]
     },
     "execution_count": 18,
     "metadata": {},
     "output_type": "execute_result"
    }
   ],
   "source": [
    "exe_rca_list = ['rca-' + str(x) for x in range(num_exe_rca)]\n",
    "exe_rca_list[:10]"
   ]
  },
  {
   "cell_type": "code",
   "execution_count": 19,
   "metadata": {},
   "outputs": [
    {
     "data": {
      "text/plain": [
       "['program-0',\n",
       " 'program-1',\n",
       " 'program-2',\n",
       " 'program-3',\n",
       " 'program-4',\n",
       " 'program-5',\n",
       " 'program-6',\n",
       " 'program-7',\n",
       " 'program-8',\n",
       " 'program-9']"
      ]
     },
     "execution_count": 19,
     "metadata": {},
     "output_type": "execute_result"
    }
   ],
   "source": [
    "exe_prog_list = ['program-' + str(x) for x in range(num_exe_program)]\n",
    "exe_prog_list[:10]"
   ]
  },
  {
   "cell_type": "markdown",
   "metadata": {},
   "source": [
    "# PHASE 4: EXPORT DATA"
   ]
  },
  {
   "cell_type": "code",
   "execution_count": 5,
   "metadata": {},
   "outputs": [],
   "source": [
    "train_df.to_csv(r'locked_random_data_v1', index = False)"
   ]
  }
 ],
 "metadata": {
  "kernelspec": {
   "display_name": "Python 3",
   "language": "python",
   "name": "python3"
  },
  "language_info": {
   "codemirror_mode": {
    "name": "ipython",
    "version": 3
   },
   "file_extension": ".py",
   "mimetype": "text/x-python",
   "name": "python",
   "nbconvert_exporter": "python",
   "pygments_lexer": "ipython3",
   "version": "3.7.6"
  }
 },
 "nbformat": 4,
 "nbformat_minor": 4
}
