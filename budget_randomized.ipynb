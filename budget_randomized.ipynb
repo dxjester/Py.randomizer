{
 "cells": [
  {
   "cell_type": "markdown",
   "metadata": {},
   "source": [
    "# LOCKED POSITION RANDOMIZED DATA\n",
    "\n",
    "FILENAME: budget_randomized.ipynb\n",
    "    \n",
    "PROJECT: Randomized Data Model\n",
    "\n",
    "DATE CREATED: 27-MAY-20\n",
    "\n",
    "DATE UPDATED: 27-MAY-20"
   ]
  },
  {
   "cell_type": "markdown",
   "metadata": {},
   "source": [
    "## PHASE 1: PROJECT SETUP"
   ]
  },
  {
   "cell_type": "markdown",
   "metadata": {},
   "source": [
    "Import the necessary libraries needed for ETL, engineering, and export efforts"
   ]
  },
  {
   "cell_type": "code",
   "execution_count": 1,
   "metadata": {},
   "outputs": [],
   "source": [
    "import pandas as pd\n",
    "import csv\n",
    "import random\n",
    "import sqlite3\n",
    "import itertools\n",
    "import numpy as np\n",
    "import datetime\n",
    "from itertools import repeat\n",
    "import time as t\n",
    "import getpass as gp"
   ]
  },
  {
   "cell_type": "code",
   "execution_count": 2,
   "metadata": {},
   "outputs": [],
   "source": [
    "def init_array(df_length):\n",
    "    '''\n",
    "    DESCRIPTION: A function to create and return a two_dimensional array with randomized float values\n",
    "    '''\n",
    "    \n",
    "    length = df_length\n",
    "    \n",
    "    num_of_projects = 20 # can change the amount of projects\n",
    "    num_of_subprojects = 40 # can change the amount of subprojects\n",
    "    num_of_programs = 80\n",
    "    num_of_rca = 120 # can change the amount of RCAs\n",
    "    \n",
    "    # create a sequential list of column values for projects, subprojects, and RCAs\n",
    "    proj_list = ['project-' + str(i+1) for i in range(num_of_projects)] # create a list of project names\n",
    "    subproject_list = ['subproject-' + str(i+1) for i in range(num_of_subprojects)]\n",
    "    program_list = ['program-' + str(i+1) for i in range(num_of_programs)]\n",
    "    rca_list = ['rca-' + str(i+1) for i in range(num_of_rca)]\n",
    "    \n",
    "    project_values = []\n",
    "    subproject_values = []\n",
    "    program_values = []\n",
    "    rca_values = []\n",
    "\n",
    "    for index in range(length):\n",
    "        \n",
    "        # select a random value from each list\n",
    "        proj_val = random.choice(proj_list)\n",
    "        sb_val = (random.choice(subproject_list))\n",
    "        program_val = random.choice(program_list)\n",
    "        rca_val = random.choice(rca_list)\n",
    "        \n",
    "        # append the randomized value to the default list\n",
    "        project_values.append(proj_val)\n",
    "        subproject_values.append(sb_val)\n",
    "        program_values.append(program_val)\n",
    "        rca_values.append(rca_val)\n",
    "    \n",
    "    # create randomized budget data\n",
    "    yr3_forecast= np.random.randint(low = 100000, high = 30000000, size = df_length) \n",
    "    yr2_random = np.random.uniform(low=0.5, high=1.3, size=df_length)\n",
    "    yr2_forecast = np.round(yr3_forecast * yr2_random,2)\n",
    "    \n",
    "    yr1_random = np.random.uniform(low=0.8, high=1.2, size=df_length)\n",
    "    yr1_forecast = np.round(yr2_forecast * yr1_random,2)\n",
    "    \n",
    "    plan_random = np.random.uniform(low=0.6, high=1.3, size=df_length)\n",
    "    plan_val = np.round(yr1_forecast * plan_random,2)\n",
    "    \n",
    "    approp_random = np.random.uniform(low=0.6, high=1.2, size=df_length)\n",
    "    approp_val = np.round(plan_val * approp_random,2)\n",
    "    \n",
    "    oblig_random = np.random.uniform(low=0.8, high=1.0, size=df_length)\n",
    "    oblig_val = np.round(approp_val * oblig_random,2)\n",
    "    \n",
    "    raw_df = pd.DataFrame(columns=['project', 'subproject', 'program_title', 'rca','yr+3_forecast','yr+2_forecast','yr+1_forecast','yr0_plan','yr-1_approp','yr-2_oblig'])\n",
    "\n",
    "    raw_df['project'] = project_values\n",
    "    raw_df['subproject'] = subproject_values\n",
    "    raw_df['program_title'] = rca_values\n",
    "    raw_df['rca'] = rca_values\n",
    "    raw_df['yr+3_forecast'] = yr3_forecast\n",
    "    raw_df['yr+2_forecast'] = yr2_forecast\n",
    "    raw_df['yr+1_forecast'] = yr1_forecast\n",
    "    raw_df['yr0_plan'] = plan_val\n",
    "    raw_df['yr-1_approp'] = approp_val\n",
    "    raw_df['yr-2_oblig'] = oblig_val\n",
    "    \n",
    "    return raw_df"
   ]
  },
  {
   "cell_type": "markdown",
   "metadata": {},
   "source": [
    "# PHASE 2: Function Test"
   ]
  },
  {
   "cell_type": "code",
   "execution_count": 3,
   "metadata": {},
   "outputs": [
    {
     "data": {
      "text/html": [
       "<div>\n",
       "<style scoped>\n",
       "    .dataframe tbody tr th:only-of-type {\n",
       "        vertical-align: middle;\n",
       "    }\n",
       "\n",
       "    .dataframe tbody tr th {\n",
       "        vertical-align: top;\n",
       "    }\n",
       "\n",
       "    .dataframe thead th {\n",
       "        text-align: right;\n",
       "    }\n",
       "</style>\n",
       "<table border=\"1\" class=\"dataframe\">\n",
       "  <thead>\n",
       "    <tr style=\"text-align: right;\">\n",
       "      <th></th>\n",
       "      <th>project</th>\n",
       "      <th>subproject</th>\n",
       "      <th>program_title</th>\n",
       "      <th>rca</th>\n",
       "      <th>yr+3_forecast</th>\n",
       "      <th>yr+2_forecast</th>\n",
       "      <th>yr+1_forecast</th>\n",
       "      <th>yr0_plan</th>\n",
       "      <th>yr-1_approp</th>\n",
       "      <th>yr-2_oblig</th>\n",
       "    </tr>\n",
       "  </thead>\n",
       "  <tbody>\n",
       "    <tr>\n",
       "      <th>9990</th>\n",
       "      <td>project-11</td>\n",
       "      <td>subproject-28</td>\n",
       "      <td>rca-70</td>\n",
       "      <td>rca-70</td>\n",
       "      <td>17914034</td>\n",
       "      <td>14517587.21</td>\n",
       "      <td>15148778.39</td>\n",
       "      <td>15750656.56</td>\n",
       "      <td>18202116.81</td>\n",
       "      <td>15322015.69</td>\n",
       "    </tr>\n",
       "    <tr>\n",
       "      <th>9991</th>\n",
       "      <td>project-2</td>\n",
       "      <td>subproject-13</td>\n",
       "      <td>rca-120</td>\n",
       "      <td>rca-120</td>\n",
       "      <td>6493174</td>\n",
       "      <td>7634813.34</td>\n",
       "      <td>8845080.32</td>\n",
       "      <td>8539298.24</td>\n",
       "      <td>6048655.03</td>\n",
       "      <td>5252986.17</td>\n",
       "    </tr>\n",
       "    <tr>\n",
       "      <th>9992</th>\n",
       "      <td>project-1</td>\n",
       "      <td>subproject-24</td>\n",
       "      <td>rca-64</td>\n",
       "      <td>rca-64</td>\n",
       "      <td>28458127</td>\n",
       "      <td>20924125.41</td>\n",
       "      <td>24898060.95</td>\n",
       "      <td>24941542.66</td>\n",
       "      <td>21241616.37</td>\n",
       "      <td>17877144.70</td>\n",
       "    </tr>\n",
       "    <tr>\n",
       "      <th>9993</th>\n",
       "      <td>project-17</td>\n",
       "      <td>subproject-25</td>\n",
       "      <td>rca-95</td>\n",
       "      <td>rca-95</td>\n",
       "      <td>25910351</td>\n",
       "      <td>21288988.51</td>\n",
       "      <td>24751602.00</td>\n",
       "      <td>31561458.04</td>\n",
       "      <td>26732193.41</td>\n",
       "      <td>24894476.94</td>\n",
       "    </tr>\n",
       "    <tr>\n",
       "      <th>9994</th>\n",
       "      <td>project-16</td>\n",
       "      <td>subproject-5</td>\n",
       "      <td>rca-19</td>\n",
       "      <td>rca-19</td>\n",
       "      <td>5875978</td>\n",
       "      <td>6369027.36</td>\n",
       "      <td>6864420.20</td>\n",
       "      <td>4402688.33</td>\n",
       "      <td>3759224.53</td>\n",
       "      <td>3723314.30</td>\n",
       "    </tr>\n",
       "    <tr>\n",
       "      <th>9995</th>\n",
       "      <td>project-13</td>\n",
       "      <td>subproject-3</td>\n",
       "      <td>rca-18</td>\n",
       "      <td>rca-18</td>\n",
       "      <td>13321490</td>\n",
       "      <td>16809784.54</td>\n",
       "      <td>17514734.74</td>\n",
       "      <td>12298731.16</td>\n",
       "      <td>8278178.04</td>\n",
       "      <td>7470235.24</td>\n",
       "    </tr>\n",
       "    <tr>\n",
       "      <th>9996</th>\n",
       "      <td>project-15</td>\n",
       "      <td>subproject-16</td>\n",
       "      <td>rca-76</td>\n",
       "      <td>rca-76</td>\n",
       "      <td>4153007</td>\n",
       "      <td>2577479.49</td>\n",
       "      <td>3047741.65</td>\n",
       "      <td>3317289.70</td>\n",
       "      <td>3173565.36</td>\n",
       "      <td>3118173.62</td>\n",
       "    </tr>\n",
       "    <tr>\n",
       "      <th>9997</th>\n",
       "      <td>project-20</td>\n",
       "      <td>subproject-18</td>\n",
       "      <td>rca-65</td>\n",
       "      <td>rca-65</td>\n",
       "      <td>18306949</td>\n",
       "      <td>17205109.95</td>\n",
       "      <td>19747399.69</td>\n",
       "      <td>21238338.06</td>\n",
       "      <td>13636510.52</td>\n",
       "      <td>11160160.29</td>\n",
       "    </tr>\n",
       "    <tr>\n",
       "      <th>9998</th>\n",
       "      <td>project-4</td>\n",
       "      <td>subproject-22</td>\n",
       "      <td>rca-47</td>\n",
       "      <td>rca-47</td>\n",
       "      <td>12051943</td>\n",
       "      <td>11376899.72</td>\n",
       "      <td>10244178.02</td>\n",
       "      <td>11253886.01</td>\n",
       "      <td>10986209.42</td>\n",
       "      <td>10325302.80</td>\n",
       "    </tr>\n",
       "    <tr>\n",
       "      <th>9999</th>\n",
       "      <td>project-14</td>\n",
       "      <td>subproject-39</td>\n",
       "      <td>rca-10</td>\n",
       "      <td>rca-10</td>\n",
       "      <td>15807160</td>\n",
       "      <td>14478359.77</td>\n",
       "      <td>14062761.67</td>\n",
       "      <td>16676729.34</td>\n",
       "      <td>14659152.80</td>\n",
       "      <td>14199573.94</td>\n",
       "    </tr>\n",
       "  </tbody>\n",
       "</table>\n",
       "</div>"
      ],
      "text/plain": [
       "         project     subproject program_title      rca  yr+3_forecast  \\\n",
       "9990  project-11  subproject-28        rca-70   rca-70       17914034   \n",
       "9991   project-2  subproject-13       rca-120  rca-120        6493174   \n",
       "9992   project-1  subproject-24        rca-64   rca-64       28458127   \n",
       "9993  project-17  subproject-25        rca-95   rca-95       25910351   \n",
       "9994  project-16   subproject-5        rca-19   rca-19        5875978   \n",
       "9995  project-13   subproject-3        rca-18   rca-18       13321490   \n",
       "9996  project-15  subproject-16        rca-76   rca-76        4153007   \n",
       "9997  project-20  subproject-18        rca-65   rca-65       18306949   \n",
       "9998   project-4  subproject-22        rca-47   rca-47       12051943   \n",
       "9999  project-14  subproject-39        rca-10   rca-10       15807160   \n",
       "\n",
       "      yr+2_forecast  yr+1_forecast     yr0_plan  yr-1_approp   yr-2_oblig  \n",
       "9990    14517587.21    15148778.39  15750656.56  18202116.81  15322015.69  \n",
       "9991     7634813.34     8845080.32   8539298.24   6048655.03   5252986.17  \n",
       "9992    20924125.41    24898060.95  24941542.66  21241616.37  17877144.70  \n",
       "9993    21288988.51    24751602.00  31561458.04  26732193.41  24894476.94  \n",
       "9994     6369027.36     6864420.20   4402688.33   3759224.53   3723314.30  \n",
       "9995    16809784.54    17514734.74  12298731.16   8278178.04   7470235.24  \n",
       "9996     2577479.49     3047741.65   3317289.70   3173565.36   3118173.62  \n",
       "9997    17205109.95    19747399.69  21238338.06  13636510.52  11160160.29  \n",
       "9998    11376899.72    10244178.02  11253886.01  10986209.42  10325302.80  \n",
       "9999    14478359.77    14062761.67  16676729.34  14659152.80  14199573.94  "
      ]
     },
     "execution_count": 3,
     "metadata": {},
     "output_type": "execute_result"
    }
   ],
   "source": [
    "train_df = init_array(10000)\n",
    "train_df.tail(10)"
   ]
  },
  {
   "cell_type": "code",
   "execution_count": 9,
   "metadata": {},
   "outputs": [
    {
     "data": {
      "text/plain": [
       "0          project-16-subproject-36-rca-2-rca-2\n",
       "1        project-20-subproject-20-rca-45-rca-45\n",
       "2       project-6-subproject-30-rca-110-rca-110\n",
       "3        project-18-subproject-15-rca-57-rca-57\n",
       "4        project-16-subproject-20-rca-46-rca-46\n",
       "                         ...                   \n",
       "9995      project-13-subproject-3-rca-18-rca-18\n",
       "9996     project-15-subproject-16-rca-76-rca-76\n",
       "9997     project-20-subproject-18-rca-65-rca-65\n",
       "9998      project-4-subproject-22-rca-47-rca-47\n",
       "9999     project-14-subproject-39-rca-10-rca-10\n",
       "Name: key, Length: 10000, dtype: object"
      ]
     },
     "execution_count": 9,
     "metadata": {},
     "output_type": "execute_result"
    }
   ],
   "source": [
    "train_df['key'] = train_df['project'] + '-' + train_df['subproject'] + '-' + train_df['program_title'] + '-' + train_df['rca']\n",
    "train_df['key']\n"
   ]
  },
  {
   "cell_type": "code",
   "execution_count": 11,
   "metadata": {},
   "outputs": [
    {
     "name": "stdout",
     "output_type": "stream",
     "text": [
      "Duplicate Rows except first occurrence based on all columns are :\n",
      "                                           key\n",
      "297       project-3-subproject-3-rca-40-rca-40\n",
      "856      project-6-subproject-37-rca-39-rca-39\n",
      "951   project-14-subproject-33-rca-102-rca-102\n",
      "1000   project-6-subproject-30-rca-110-rca-110\n",
      "1098   project-9-subproject-12-rca-106-rca-106\n",
      "...                                        ...\n",
      "9955    project-20-subproject-34-rca-46-rca-46\n",
      "9965    project-15-subproject-32-rca-82-rca-82\n",
      "9972     project-8-subproject-28-rca-27-rca-27\n",
      "9975    project-12-subproject-30-rca-64-rca-64\n",
      "9986  project-11-subproject-31-rca-120-rca-120\n",
      "\n",
      "[480 rows x 1 columns]\n"
     ]
    }
   ],
   "source": [
    "key_df = train_df[['key']]\n",
    "duplicateRowsDF = key_df[key_df.duplicated()]\n",
    " \n",
    "print(\"Duplicate Rows except first occurrence based on all columns are :\")\n",
    "print(duplicateRowsDF)"
   ]
  },
  {
   "cell_type": "code",
   "execution_count": 12,
   "metadata": {},
   "outputs": [],
   "source": [
    "# dropping ALL duplicte values \n",
    "train_df.drop_duplicates(subset =\"key\", \n",
    "                     keep = False, inplace = True) \n"
   ]
  },
  {
   "cell_type": "code",
   "execution_count": 13,
   "metadata": {},
   "outputs": [
    {
     "name": "stdout",
     "output_type": "stream",
     "text": [
      "Duplicate Rows except first occurrence based on all columns are :\n",
      "Empty DataFrame\n",
      "Columns: [key]\n",
      "Index: []\n"
     ]
    }
   ],
   "source": [
    "key_df = train_df[['key']]\n",
    "duplicateRowsDF = key_df[key_df.duplicated()]\n",
    " \n",
    "print(\"Duplicate Rows except first occurrence based on all columns are :\")\n",
    "print(duplicateRowsDF)"
   ]
  },
  {
   "cell_type": "markdown",
   "metadata": {},
   "source": [
    "# PHASE 3: EXPORT DATA"
   ]
  },
  {
   "cell_type": "code",
   "execution_count": 5,
   "metadata": {},
   "outputs": [],
   "source": [
    "train_df.to_csv(r'locked_random_data_v1', index = False)"
   ]
  },
  {
   "cell_type": "markdown",
   "metadata": {},
   "source": [
    "# TEST"
   ]
  },
  {
   "cell_type": "code",
   "execution_count": 6,
   "metadata": {},
   "outputs": [],
   "source": [
    "length = 10000\n",
    "num_of_projects = 20\n",
    "num_of_subprojects = 40"
   ]
  },
  {
   "cell_type": "code",
   "execution_count": 7,
   "metadata": {},
   "outputs": [
    {
     "data": {
      "text/plain": [
       "['project16', 'project17', 'project18', 'project19', 'project20']"
      ]
     },
     "execution_count": 7,
     "metadata": {},
     "output_type": "execute_result"
    }
   ],
   "source": [
    "proj_list = ['project' + str(i+1) for i in range(num_of_projects)]\n",
    "proj_list[-5:]"
   ]
  },
  {
   "cell_type": "code",
   "execution_count": 8,
   "metadata": {},
   "outputs": [
    {
     "ename": "NameError",
     "evalue": "name 'proj_repeat' is not defined",
     "output_type": "error",
     "traceback": [
      "\u001b[0;31m--------------------------------------------------------------------------\u001b[0m",
      "\u001b[0;31mNameError\u001b[0m                                Traceback (most recent call last)",
      "\u001b[0;32m<ipython-input-8-a4b669e15355>\u001b[0m in \u001b[0;36m<module>\u001b[0;34m\u001b[0m\n\u001b[1;32m      1\u001b[0m \u001b[0mproj_values\u001b[0m \u001b[0;34m=\u001b[0m \u001b[0;34m[\u001b[0m\u001b[0mx\u001b[0m \u001b[0;32mfor\u001b[0m \u001b[0mitem\u001b[0m \u001b[0;32min\u001b[0m \u001b[0mproj_list\u001b[0m \u001b[0;32mfor\u001b[0m \u001b[0mx\u001b[0m \u001b[0;32min\u001b[0m \u001b[0mrepeat\u001b[0m\u001b[0;34m(\u001b[0m\u001b[0mitem\u001b[0m\u001b[0;34m,\u001b[0m \u001b[0;36m20\u001b[0m\u001b[0;34m)\u001b[0m\u001b[0;34m]\u001b[0m\u001b[0;34m\u001b[0m\u001b[0;34m\u001b[0m\u001b[0m\n\u001b[0;32m----> 2\u001b[0;31m \u001b[0mproj_repeat\u001b[0m\u001b[0;34m\u001b[0m\u001b[0;34m\u001b[0m\u001b[0m\n\u001b[0m",
      "\u001b[0;31mNameError\u001b[0m: name 'proj_repeat' is not defined"
     ]
    }
   ],
   "source": [
    "proj_values = [x for item in proj_list for x in repeat(item, 20)]\n",
    "proj_repeat"
   ]
  },
  {
   "cell_type": "code",
   "execution_count": null,
   "metadata": {},
   "outputs": [],
   "source": [
    "subproject_list = ['subproject' + str(i+1) for i in range(num_of_subprojects)]\n",
    "subproject_list"
   ]
  },
  {
   "cell_type": "code",
   "execution_count": null,
   "metadata": {},
   "outputs": [],
   "source": [
    "subproject_values = []\n",
    "\n",
    "for index in range(length):\n",
    "    val = (random.choice(subproject_list))\n",
    "    subproject_values.append(val)"
   ]
  },
  {
   "cell_type": "code",
   "execution_count": null,
   "metadata": {},
   "outputs": [],
   "source": [
    "subproject_values"
   ]
  },
  {
   "cell_type": "code",
   "execution_count": null,
   "metadata": {},
   "outputs": [],
   "source": []
  }
 ],
 "metadata": {
  "kernelspec": {
   "display_name": "Python 3",
   "language": "python",
   "name": "python3"
  },
  "language_info": {
   "codemirror_mode": {
    "name": "ipython",
    "version": 3
   },
   "file_extension": ".py",
   "mimetype": "text/x-python",
   "name": "python",
   "nbconvert_exporter": "python",
   "pygments_lexer": "ipython3",
   "version": "3.7.6"
  }
 },
 "nbformat": 4,
 "nbformat_minor": 4
}
